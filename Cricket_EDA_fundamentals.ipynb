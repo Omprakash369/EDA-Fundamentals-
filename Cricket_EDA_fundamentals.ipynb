{
 "cells": [
  {
   "cell_type": "markdown",
   "id": "9495a862-010f-4515-93c9-7381f43a1634",
   "metadata": {},
   "source": [
    "### 1. What is 7th Column name in the given dataset and What is the datatype of it"
   ]
  },
  {
   "cell_type": "code",
   "execution_count": 1,
   "id": "b5682ed5-b6da-4df8-92de-2e5bbb730f2f",
   "metadata": {},
   "outputs": [],
   "source": [
    "import pandas as pd \n",
    "import numpy as np "
   ]
  },
  {
   "cell_type": "code",
   "execution_count": 4,
   "id": "e156bfd6-7e3c-4534-96d8-bf144efa7911",
   "metadata": {},
   "outputs": [],
   "source": [
    "df = pd.read_csv('Matches.csv')"
   ]
  },
  {
   "cell_type": "code",
   "execution_count": 17,
   "id": "e4c58dad-81d2-48d2-bf81-6b8da8062523",
   "metadata": {},
   "outputs": [
    {
     "data": {
      "text/html": [
       "<div>\n",
       "<style scoped>\n",
       "    .dataframe tbody tr th:only-of-type {\n",
       "        vertical-align: middle;\n",
       "    }\n",
       "\n",
       "    .dataframe tbody tr th {\n",
       "        vertical-align: top;\n",
       "    }\n",
       "\n",
       "    .dataframe thead th {\n",
       "        text-align: right;\n",
       "    }\n",
       "</style>\n",
       "<table border=\"1\" class=\"dataframe\">\n",
       "  <thead>\n",
       "    <tr style=\"text-align: right;\">\n",
       "      <th></th>\n",
       "      <th>Team</th>\n",
       "      <th>Player</th>\n",
       "      <th>Tournament</th>\n",
       "      <th>Matches</th>\n",
       "      <th>Batting Innings</th>\n",
       "      <th>Not Out</th>\n",
       "      <th>Runds Scored</th>\n",
       "      <th>Highest Score</th>\n",
       "      <th>Batting Average</th>\n",
       "      <th>Balls Faced</th>\n",
       "      <th>Batting Strike Rate</th>\n",
       "      <th>Bowling Economy Rate</th>\n",
       "    </tr>\n",
       "  </thead>\n",
       "  <tbody>\n",
       "    <tr>\n",
       "      <th>0</th>\n",
       "      <td>Delhi Daredevils</td>\n",
       "      <td>CH Morris</td>\n",
       "      <td>IPL 2016</td>\n",
       "      <td>12</td>\n",
       "      <td>7</td>\n",
       "      <td>4</td>\n",
       "      <td>195</td>\n",
       "      <td>82*</td>\n",
       "      <td>65.00</td>\n",
       "      <td>109</td>\n",
       "      <td>178.89</td>\n",
       "      <td>7.00</td>\n",
       "    </tr>\n",
       "    <tr>\n",
       "      <th>1</th>\n",
       "      <td>Delhi Daredevils</td>\n",
       "      <td>CH Morris</td>\n",
       "      <td>IPL 2017</td>\n",
       "      <td>9</td>\n",
       "      <td>9</td>\n",
       "      <td>4</td>\n",
       "      <td>154</td>\n",
       "      <td>52*</td>\n",
       "      <td>30.80</td>\n",
       "      <td>94</td>\n",
       "      <td>163.82</td>\n",
       "      <td>7.74</td>\n",
       "    </tr>\n",
       "    <tr>\n",
       "      <th>2</th>\n",
       "      <td>Delhi Daredevils</td>\n",
       "      <td>CH Morris</td>\n",
       "      <td>IPL 2018</td>\n",
       "      <td>4</td>\n",
       "      <td>4</td>\n",
       "      <td>3</td>\n",
       "      <td>46</td>\n",
       "      <td>27*</td>\n",
       "      <td>46.00</td>\n",
       "      <td>26</td>\n",
       "      <td>176.92</td>\n",
       "      <td>10.21</td>\n",
       "    </tr>\n",
       "    <tr>\n",
       "      <th>3</th>\n",
       "      <td>Delhi Daredevils</td>\n",
       "      <td>JP Duminy</td>\n",
       "      <td>IPL 2016</td>\n",
       "      <td>10</td>\n",
       "      <td>8</td>\n",
       "      <td>3</td>\n",
       "      <td>191</td>\n",
       "      <td>49*</td>\n",
       "      <td>38.20</td>\n",
       "      <td>156</td>\n",
       "      <td>122.43</td>\n",
       "      <td>7.85</td>\n",
       "    </tr>\n",
       "    <tr>\n",
       "      <th>4</th>\n",
       "      <td>Delhi Daredevils</td>\n",
       "      <td>Q de Kock</td>\n",
       "      <td>IPL 2016</td>\n",
       "      <td>13</td>\n",
       "      <td>13</td>\n",
       "      <td>1</td>\n",
       "      <td>445</td>\n",
       "      <td>108</td>\n",
       "      <td>37.08</td>\n",
       "      <td>327</td>\n",
       "      <td>136.08</td>\n",
       "      <td>NaN</td>\n",
       "    </tr>\n",
       "  </tbody>\n",
       "</table>\n",
       "</div>"
      ],
      "text/plain": [
       "               Team     Player Tournament  Matches Batting Innings Not Out  \\\n",
       "0  Delhi Daredevils  CH Morris   IPL 2016       12               7       4   \n",
       "1  Delhi Daredevils  CH Morris   IPL 2017        9               9       4   \n",
       "2  Delhi Daredevils  CH Morris   IPL 2018        4               4       3   \n",
       "3  Delhi Daredevils  JP Duminy   IPL 2016       10               8       3   \n",
       "4  Delhi Daredevils  Q de Kock   IPL 2016       13              13       1   \n",
       "\n",
       "   Runds Scored Highest Score Batting Average  Balls Faced  \\\n",
       "0           195           82*           65.00          109   \n",
       "1           154           52*           30.80           94   \n",
       "2            46           27*           46.00           26   \n",
       "3           191           49*           38.20          156   \n",
       "4           445           108           37.08          327   \n",
       "\n",
       "   Batting Strike Rate  Bowling Economy Rate  \n",
       "0               178.89                  7.00  \n",
       "1               163.82                  7.74  \n",
       "2               176.92                 10.21  \n",
       "3               122.43                  7.85  \n",
       "4               136.08                   NaN  "
      ]
     },
     "execution_count": 17,
     "metadata": {},
     "output_type": "execute_result"
    }
   ],
   "source": [
    "df.head()"
   ]
  },
  {
   "cell_type": "code",
   "execution_count": 24,
   "id": "3889aed3-8af7-4bbc-99ad-c76644efa545",
   "metadata": {},
   "outputs": [
    {
     "name": "stdout",
     "output_type": "stream",
     "text": [
      "Highest Score\n"
     ]
    }
   ],
   "source": [
    "seven = df.columns[7]\n",
    "print(seven)"
   ]
  },
  {
   "cell_type": "code",
   "execution_count": 29,
   "id": "c9802d93-6943-48e5-b3e3-7eb369738c39",
   "metadata": {},
   "outputs": [
    {
     "data": {
      "text/plain": [
       "dtype('O')"
      ]
     },
     "execution_count": 29,
     "metadata": {},
     "output_type": "execute_result"
    }
   ],
   "source": [
    "df['Highest Score'].dtype"
   ]
  },
  {
   "cell_type": "markdown",
   "id": "fdf2b573-ff16-498a-bea4-e8c315205780",
   "metadata": {},
   "source": [
    "### 2. Change 6th column name to Runs Scored and Calculate the total Runs Scored by all Players.   "
   ]
  },
  {
   "cell_type": "code",
   "execution_count": 33,
   "id": "40de2dca-66fa-4c7d-bc72-703b37c48e58",
   "metadata": {},
   "outputs": [],
   "source": [
    "df.rename({'Runds Scored':'Total Runs'},axis=1,inplace=True)"
   ]
  },
  {
   "cell_type": "code",
   "execution_count": 34,
   "id": "50b9381f-d545-438f-a06d-0f97577fa943",
   "metadata": {},
   "outputs": [
    {
     "data": {
      "text/html": [
       "<div>\n",
       "<style scoped>\n",
       "    .dataframe tbody tr th:only-of-type {\n",
       "        vertical-align: middle;\n",
       "    }\n",
       "\n",
       "    .dataframe tbody tr th {\n",
       "        vertical-align: top;\n",
       "    }\n",
       "\n",
       "    .dataframe thead th {\n",
       "        text-align: right;\n",
       "    }\n",
       "</style>\n",
       "<table border=\"1\" class=\"dataframe\">\n",
       "  <thead>\n",
       "    <tr style=\"text-align: right;\">\n",
       "      <th></th>\n",
       "      <th>Team</th>\n",
       "      <th>Player</th>\n",
       "      <th>Tournament</th>\n",
       "      <th>Matches</th>\n",
       "      <th>Batting Innings</th>\n",
       "      <th>Not Out</th>\n",
       "      <th>Total Runs</th>\n",
       "      <th>Highest Score</th>\n",
       "      <th>Batting Average</th>\n",
       "      <th>Balls Faced</th>\n",
       "      <th>Batting Strike Rate</th>\n",
       "      <th>Bowling Economy Rate</th>\n",
       "    </tr>\n",
       "  </thead>\n",
       "  <tbody>\n",
       "    <tr>\n",
       "      <th>0</th>\n",
       "      <td>Delhi Daredevils</td>\n",
       "      <td>CH Morris</td>\n",
       "      <td>IPL 2016</td>\n",
       "      <td>12</td>\n",
       "      <td>7</td>\n",
       "      <td>4</td>\n",
       "      <td>195</td>\n",
       "      <td>82*</td>\n",
       "      <td>65.00</td>\n",
       "      <td>109</td>\n",
       "      <td>178.89</td>\n",
       "      <td>7.00</td>\n",
       "    </tr>\n",
       "    <tr>\n",
       "      <th>1</th>\n",
       "      <td>Delhi Daredevils</td>\n",
       "      <td>CH Morris</td>\n",
       "      <td>IPL 2017</td>\n",
       "      <td>9</td>\n",
       "      <td>9</td>\n",
       "      <td>4</td>\n",
       "      <td>154</td>\n",
       "      <td>52*</td>\n",
       "      <td>30.80</td>\n",
       "      <td>94</td>\n",
       "      <td>163.82</td>\n",
       "      <td>7.74</td>\n",
       "    </tr>\n",
       "    <tr>\n",
       "      <th>2</th>\n",
       "      <td>Delhi Daredevils</td>\n",
       "      <td>CH Morris</td>\n",
       "      <td>IPL 2018</td>\n",
       "      <td>4</td>\n",
       "      <td>4</td>\n",
       "      <td>3</td>\n",
       "      <td>46</td>\n",
       "      <td>27*</td>\n",
       "      <td>46.00</td>\n",
       "      <td>26</td>\n",
       "      <td>176.92</td>\n",
       "      <td>10.21</td>\n",
       "    </tr>\n",
       "    <tr>\n",
       "      <th>3</th>\n",
       "      <td>Delhi Daredevils</td>\n",
       "      <td>JP Duminy</td>\n",
       "      <td>IPL 2016</td>\n",
       "      <td>10</td>\n",
       "      <td>8</td>\n",
       "      <td>3</td>\n",
       "      <td>191</td>\n",
       "      <td>49*</td>\n",
       "      <td>38.20</td>\n",
       "      <td>156</td>\n",
       "      <td>122.43</td>\n",
       "      <td>7.85</td>\n",
       "    </tr>\n",
       "    <tr>\n",
       "      <th>4</th>\n",
       "      <td>Delhi Daredevils</td>\n",
       "      <td>Q de Kock</td>\n",
       "      <td>IPL 2016</td>\n",
       "      <td>13</td>\n",
       "      <td>13</td>\n",
       "      <td>1</td>\n",
       "      <td>445</td>\n",
       "      <td>108</td>\n",
       "      <td>37.08</td>\n",
       "      <td>327</td>\n",
       "      <td>136.08</td>\n",
       "      <td>NaN</td>\n",
       "    </tr>\n",
       "  </tbody>\n",
       "</table>\n",
       "</div>"
      ],
      "text/plain": [
       "               Team     Player Tournament  Matches Batting Innings Not Out  \\\n",
       "0  Delhi Daredevils  CH Morris   IPL 2016       12               7       4   \n",
       "1  Delhi Daredevils  CH Morris   IPL 2017        9               9       4   \n",
       "2  Delhi Daredevils  CH Morris   IPL 2018        4               4       3   \n",
       "3  Delhi Daredevils  JP Duminy   IPL 2016       10               8       3   \n",
       "4  Delhi Daredevils  Q de Kock   IPL 2016       13              13       1   \n",
       "\n",
       "   Total Runs Highest Score Batting Average  Balls Faced  Batting Strike Rate  \\\n",
       "0         195           82*           65.00          109               178.89   \n",
       "1         154           52*           30.80           94               163.82   \n",
       "2          46           27*           46.00           26               176.92   \n",
       "3         191           49*           38.20          156               122.43   \n",
       "4         445           108           37.08          327               136.08   \n",
       "\n",
       "   Bowling Economy Rate  \n",
       "0                  7.00  \n",
       "1                  7.74  \n",
       "2                 10.21  \n",
       "3                  7.85  \n",
       "4                   NaN  "
      ]
     },
     "execution_count": 34,
     "metadata": {},
     "output_type": "execute_result"
    }
   ],
   "source": [
    "df.head()"
   ]
  },
  {
   "cell_type": "code",
   "execution_count": 156,
   "id": "fce9fff9-fce8-41c9-89d4-057f49884ca8",
   "metadata": {},
   "outputs": [
    {
     "data": {
      "text/plain": [
       "73540"
      ]
     },
     "execution_count": 156,
     "metadata": {},
     "output_type": "execute_result"
    }
   ],
   "source": [
    "# total runs scrored by all players \n",
    "df['Total Runs'].sum()"
   ]
  },
  {
   "cell_type": "markdown",
   "id": "d0f9f10a-8cab-479a-8299-328349ffe489",
   "metadata": {},
   "source": [
    "### 3. Which team has Highest frequency.   \n"
   ]
  },
  {
   "cell_type": "code",
   "execution_count": 39,
   "id": "ecfee40c-58f6-4b1f-92a2-f75e59883bbd",
   "metadata": {},
   "outputs": [
    {
     "data": {
      "text/plain": [
       "0    Royal Challengers Bangalore\n",
       "Name: Team, dtype: object"
      ]
     },
     "execution_count": 39,
     "metadata": {},
     "output_type": "execute_result"
    }
   ],
   "source": [
    "df['Team'].mode()"
   ]
  },
  {
   "cell_type": "markdown",
   "id": "080ae97b-84e8-4258-b91e-6aa486739d9c",
   "metadata": {},
   "source": [
    "### 4. Which Team Player has Highest  Batting Strike Rate.    \n",
    " "
   ]
  },
  {
   "cell_type": "code",
   "execution_count": 48,
   "id": "9a049147-cf95-42ac-a5e5-81d9492d3783",
   "metadata": {},
   "outputs": [
    {
     "data": {
      "text/plain": [
       "Team\n",
       "Delhi Capitals                 333.33\n",
       "Chennai Super Kings            300.00\n",
       "Kolkata Knight Riders          300.00\n",
       "Rajasthan Royals               266.66\n",
       "Sunrisers Hyderabad            250.00\n",
       "Kings XI Punjab                233.33\n",
       "Mumbai Indians                 233.33\n",
       "Rising Pune Supergiant         233.33\n",
       "Delhi Daredevils               218.42\n",
       "Royal Challengers Bangalore    212.90\n",
       "Rising Pune Supergiants        177.77\n",
       "Gujarat Lions                  176.66\n",
       "Name: Batting Strike Rate, dtype: float64"
      ]
     },
     "execution_count": 48,
     "metadata": {},
     "output_type": "execute_result"
    }
   ],
   "source": [
    "df.groupby(['Team'])['Batting Strike Rate'].max().sort_values(ascending=False)"
   ]
  },
  {
   "cell_type": "markdown",
   "id": "72d54359-8a9f-4b59-aec8-30ef5f9b3e47",
   "metadata": {},
   "source": [
    "### 5. How many Players are there whose Runs Scored is greater than 300.   \n",
    " "
   ]
  },
  {
   "cell_type": "code",
   "execution_count": 157,
   "id": "01bf3816-83c8-495d-89c5-edb9f2bba0a7",
   "metadata": {},
   "outputs": [
    {
     "data": {
      "text/plain": [
       "Team                    94\n",
       "Player                  94\n",
       "Tournament              94\n",
       "Matches                 94\n",
       "Batting Innings         94\n",
       "Not Out                 94\n",
       "Total Runs              94\n",
       "Highest Score           94\n",
       "Batting Average         94\n",
       "Balls Faced             94\n",
       "Batting Strike Rate     94\n",
       "Bowling Economy Rate    18\n",
       "dtype: int64"
      ]
     },
     "execution_count": 157,
     "metadata": {},
     "output_type": "execute_result"
    }
   ],
   "source": [
    "df[df['Total Runs']>300].count()"
   ]
  },
  {
   "cell_type": "markdown",
   "id": "fc3a26a2-f2d9-4a6f-9ac8-c88f501ecfb6",
   "metadata": {},
   "source": [
    "### 6. Which Player faced more balls in 2016.   \n"
   ]
  },
  {
   "cell_type": "code",
   "execution_count": 67,
   "id": "b497df4b-45ae-429b-8db8-c7b89e2a3ed6",
   "metadata": {},
   "outputs": [],
   "source": [
    " more_balls = df[df['Tournament'] == 'IPL 2016']['Balls Faced'].max()"
   ]
  },
  {
   "cell_type": "code",
   "execution_count": 68,
   "id": "bf379d93-cab7-474f-b3d7-268c936817bf",
   "metadata": {},
   "outputs": [
    {
     "data": {
      "text/plain": [
       "298    V Kohli\n",
       "Name: Player, dtype: object"
      ]
     },
     "execution_count": 68,
     "metadata": {},
     "output_type": "execute_result"
    }
   ],
   "source": [
    "df[df['Balls Faced']==more_balls]['Player']"
   ]
  },
  {
   "cell_type": "markdown",
   "id": "ff661291-e8a4-4da0-8700-50c9a3a48cdf",
   "metadata": {},
   "source": [
    "### 7. Calculate the Total Matches Played by Player V Kohli.   "
   ]
  },
  {
   "cell_type": "code",
   "execution_count": 77,
   "id": "e15b7dce-afde-4fb7-8f5d-77b3e5c102e0",
   "metadata": {},
   "outputs": [
    {
     "data": {
      "text/plain": [
       "54"
      ]
     },
     "execution_count": 77,
     "metadata": {},
     "output_type": "execute_result"
    }
   ],
   "source": [
    "df[df['Player'] == \"V Kohli\"][\"Matches\"].sum()"
   ]
  },
  {
   "cell_type": "markdown",
   "id": "68f4522f-3409-45c6-836b-6c36ad740ce6",
   "metadata": {},
   "source": [
    "### 8. Find the Player by following conditions  \n",
    "- Player  Batting Strike Rate is greater than 200.  \n",
    "- Player Bowling Economy Rate is less than 8   "
   ]
  },
  {
   "cell_type": "code",
   "execution_count": 82,
   "id": "f2770310-2464-41e3-944d-5da08f6ef51d",
   "metadata": {},
   "outputs": [
    {
     "data": {
      "text/plain": [
       "621    I Sharma\n",
       "Name: Player, dtype: object"
      ]
     },
     "execution_count": 82,
     "metadata": {},
     "output_type": "execute_result"
    }
   ],
   "source": [
    "df[(df['Batting Strike Rate'] >200.00 )& (df['Bowling Economy Rate']<8)]['Player']"
   ]
  },
  {
   "cell_type": "markdown",
   "id": "bcccba0a-6e71-4247-97f6-797abec2c366",
   "metadata": {},
   "source": [
    "### 9. Find the Number of Player whose Bowling Economy Rate is greater than 5 and less than 8.   "
   ]
  },
  {
   "cell_type": "code",
   "execution_count": 87,
   "id": "c9f275aa-f377-46c6-aafe-ecee00cb5b38",
   "metadata": {},
   "outputs": [
    {
     "data": {
      "text/plain": [
       "128"
      ]
     },
     "execution_count": 87,
     "metadata": {},
     "output_type": "execute_result"
    }
   ],
   "source": [
    "df[(df['Bowling Economy Rate'] >5 )& (df['Bowling Economy Rate']<8)]['Player'].count()"
   ]
  },
  {
   "cell_type": "markdown",
   "id": "12c4400c-45e2-4b00-ad1a-bd77566cf300",
   "metadata": {},
   "source": [
    "### 10. How many Player from Royal Challengers Bangalore Team Played in year 2018   "
   ]
  },
  {
   "cell_type": "code",
   "execution_count": 89,
   "id": "05db983f-6778-4161-8d1e-09360eaff546",
   "metadata": {},
   "outputs": [
    {
     "data": {
      "text/plain": [
       "20"
      ]
     },
     "execution_count": 89,
     "metadata": {},
     "output_type": "execute_result"
    }
   ],
   "source": [
    "df[(df['Tournament'] == 'IPL 2018') & (df['Team'] =='Royal Challengers Bangalore')]['Player'].count()"
   ]
  },
  {
   "cell_type": "markdown",
   "id": "d344981c-fbe9-4059-99e2-73590797cc50",
   "metadata": {},
   "source": [
    "### 11. Find the  Batting Strike Rate  of 5th Highest  Balls Faced Player.      \n"
   ]
  },
  {
   "cell_type": "code",
   "execution_count": 107,
   "id": "793e9ae1-b588-4e69-9142-489d29bfc974",
   "metadata": {},
   "outputs": [
    {
     "data": {
      "text/plain": [
       "385    141.81\n",
       "Name: Batting Strike Rate, dtype: float64"
      ]
     },
     "execution_count": 107,
     "metadata": {},
     "output_type": "execute_result"
    }
   ],
   "source": [
    "highest = df.sort_values(by=['Balls Faced'],ascending=False).head(5)\n",
    "highest['Batting Strike Rate'].tail(1)"
   ]
  },
  {
   "cell_type": "markdown",
   "id": "14b751e6-482c-45b6-ab9b-1c2baa66e2a8",
   "metadata": {},
   "source": [
    "### 12. What is the Player name in 335th Row.   \n"
   ]
  },
  {
   "cell_type": "code",
   "execution_count": 113,
   "id": "9d108909-bbb7-4221-a1cf-1451c61e48a7",
   "metadata": {},
   "outputs": [
    {
     "data": {
      "text/plain": [
       "'YS Chahal'"
      ]
     },
     "execution_count": 113,
     "metadata": {},
     "output_type": "execute_result"
    }
   ],
   "source": [
    "df.loc[335]['Player']"
   ]
  },
  {
   "cell_type": "markdown",
   "id": "5fa72f81-82b7-498c-8b03-2b82c92d49b4",
   "metadata": {},
   "source": [
    "### 13. What are the Total Runs Scored between 300th row to 400th row in your DataFrame."
   ]
  },
  {
   "cell_type": "code",
   "execution_count": 118,
   "id": "0a1b7cae-086d-4814-b977-709fdbe007a4",
   "metadata": {},
   "outputs": [
    {
     "data": {
      "text/plain": [
       "13550"
      ]
     },
     "execution_count": 118,
     "metadata": {},
     "output_type": "execute_result"
    }
   ],
   "source": [
    "df.loc[300:400]['Total Runs'].sum()"
   ]
  },
  {
   "cell_type": "code",
   "execution_count": null,
   "id": "a094f200-8351-441d-99c9-e59b3fe0d0b6",
   "metadata": {},
   "outputs": [],
   "source": []
  },
  {
   "cell_type": "markdown",
   "id": "fb7da411-862b-4521-a37c-bdbe73516a5f",
   "metadata": {},
   "source": [
    "### 14. Find Total Number of Players Played in Delhi Daredevils Team in all years.   "
   ]
  },
  {
   "cell_type": "code",
   "execution_count": 128,
   "id": "f74c8b59-53c8-4baf-b0ca-2348e5d8c363",
   "metadata": {},
   "outputs": [
    {
     "data": {
      "text/plain": [
       "59"
      ]
     },
     "execution_count": 128,
     "metadata": {},
     "output_type": "execute_result"
    }
   ],
   "source": [
    "df[df['Team']=='Delhi Daredevils']['Player'].count()"
   ]
  },
  {
   "cell_type": "markdown",
   "id": "8390c8ea-f1b7-4017-8e89-867a1767e36e",
   "metadata": {},
   "source": [
    "### 15. What is the difference between Runs Scored by Players V Kohli and DA Warner in year 2016   "
   ]
  },
  {
   "cell_type": "code",
   "execution_count": 152,
   "id": "92b48950-b26a-4186-a6e8-83836d0bbbe1",
   "metadata": {},
   "outputs": [
    {
     "data": {
      "text/plain": [
       "973"
      ]
     },
     "execution_count": 152,
     "metadata": {},
     "output_type": "execute_result"
    }
   ],
   "source": [
    "virat = df[(df['Tournament'] == 'IPL 2016') & (df['Player']=='V Kohli') ]['Total Runs'].sum()\n",
    "virat\n"
   ]
  },
  {
   "cell_type": "code",
   "execution_count": 154,
   "id": "fba7a438-1dd2-4328-aeff-fd3747cbf373",
   "metadata": {},
   "outputs": [
    {
     "data": {
      "text/plain": [
       "848"
      ]
     },
     "execution_count": 154,
     "metadata": {},
     "output_type": "execute_result"
    }
   ],
   "source": [
    "DA_warner = df[(df['Tournament'] == 'IPL 2016') & (df['Player']=='DA Warner') ]['Total Runs'].sum()\n",
    "DA_warner"
   ]
  },
  {
   "cell_type": "code",
   "execution_count": 155,
   "id": "7e489d53-1e72-420e-91b1-5b4d1f8de511",
   "metadata": {},
   "outputs": [
    {
     "data": {
      "text/plain": [
       "125"
      ]
     },
     "execution_count": 155,
     "metadata": {},
     "output_type": "execute_result"
    }
   ],
   "source": [
    " virat - DA_warner"
   ]
  }
 ],
 "metadata": {
  "kernelspec": {
   "display_name": "Python [conda env:base] *",
   "language": "python",
   "name": "conda-base-py"
  },
  "language_info": {
   "codemirror_mode": {
    "name": "ipython",
    "version": 3
   },
   "file_extension": ".py",
   "mimetype": "text/x-python",
   "name": "python",
   "nbconvert_exporter": "python",
   "pygments_lexer": "ipython3",
   "version": "3.12.7"
  }
 },
 "nbformat": 4,
 "nbformat_minor": 5
}
